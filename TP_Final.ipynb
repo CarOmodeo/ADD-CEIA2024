{
 "cells": [
  {
   "cell_type": "markdown",
   "metadata": {},
   "source": [
    "# TP Final - Análisis de Datos (CEIA - FIUBA)\n",
    "\n",
    "**Integrantes:**\n",
    "- Carolina Perez Omodeo\n",
    "- Federico Arias Suárez\n",
    "- Emiliano Uriel Martino\n",
    "- Diego José Araujo Arellano"
   ]
  },
  {
   "cell_type": "code",
   "execution_count": null,
   "metadata": {},
   "outputs": [],
   "source": [
    "# ---------------- Paquetes a utilizar ----------------\n",
    "\n",
    "import pandas as pd\n",
    "import numpy as np\n",
    "import matplotlib.pyplot as plt\n",
    "import matplotlib as mpl\n",
    "import seaborn as sns\n",
    "import folium # Para dibujar mapas\n",
    "from folium import plugins\n",
    "from IPython.display import display"
   ]
  },
  {
   "cell_type": "code",
   "execution_count": null,
   "metadata": {},
   "outputs": [],
   "source": [
    "# ---------------- Carga de datos ----------------\n",
    "rent_data = pd.read_csv(\"listings_full.csv\")"
   ]
  },
  {
   "cell_type": "markdown",
   "metadata": {},
   "source": [
    "## Parte 2 - Análisis exploratorio inicial"
   ]
  },
  {
   "cell_type": "code",
   "execution_count": null,
   "metadata": {},
   "outputs": [],
   "source": [
    "# ---------------- Visualización de las primeras filas ---------------- \n",
    "\n",
    "pd.options.display.max_columns = None\n",
    "pd.options.display.max_rows = None\n",
    "rent_data.head(5,)"
   ]
  },
  {
   "cell_type": "code",
   "execution_count": null,
   "metadata": {},
   "outputs": [],
   "source": [
    "rent_data.shape"
   ]
  },
  {
   "cell_type": "code",
   "execution_count": null,
   "metadata": {},
   "outputs": [],
   "source": [
    "# ---------------- Transformación de variables ---------------- \n",
    "\n",
    "# 'price' parece ser un objeto, por lo que habría que convertir en float\n",
    "rent_data['price'] = rent_data['price'].str.replace('$','',regex=True).str.replace(',','',regex=True).astype('float')"
   ]
  },
  {
   "cell_type": "code",
   "execution_count": null,
   "metadata": {},
   "outputs": [],
   "source": [
    "# ---------------- Resumen de algunos números ---------------- \n",
    "\n",
    "rent_data.loc[:,['bedrooms','beds','bathrooms','review_scores_value','price']].describe()"
   ]
  },
  {
   "cell_type": "code",
   "execution_count": null,
   "metadata": {},
   "outputs": [],
   "source": [
    "# ---------------- Tipos de datos ---------------- \n",
    "rent_data.info()"
   ]
  },
  {
   "cell_type": "markdown",
   "metadata": {},
   "source": [
    "El dataset contiene muchos campos (unos 74 en total), donde predominan las variables numéricas (41 vars.) y en menor medida variables del tipo *object* (no necesariamente categóricas).\n",
    "\n",
    "**Variables numéricas**\n",
    "\n",
    "Se presentan variables numéricas, tanto en valores enteros (*\"int64\"*), como en representaciones de punto flotante de doble precisión (*\"float64\"*). Algunos ejemplos de esto: \n",
    "- ***int64:*** se utilizan por lo general para hacer conteos e.g. *host_id, minimum_nights, number_of_reviews*.\n",
    "- ***float64:*** se utilizan cuando se necesita representar números con varios decimales, como puede en el caso de coordenadas, e.g. *latitude, longitude, review_scores_values*.\n",
    "\n",
    "**Variables categóricas**\n",
    "\n",
    "Algunas variables categóricas que se pueden encontrar dentro del dataset (de tipo *\"object\"*), son: \n",
    "- **neighbourhood_cleansed:** que refiere al barrio donde está ubicado el alojamiento. Presenta unas 48 categorías, por lo quizás sería bueno poder agruparlos en *macro categorías* (regiones, municipios, otros) para simplificar el análisis.\n",
    "- **property_type:** el tipo de propiedad (*casa, hotel, villa, etc.*). Presenta unas 78 categorías, por lo que de utilizarla sería interesante agruparlas y también presenta datos *sucios* (e.g. denominaciones en inglés y en español).\n",
    "- **room_type:** que refiere a opciones en cuanto tipo de alojamiento (*'Entire home/apt', 'Private room', 'Hotel room', 'Shared room'*). \n",
    "\n",
    "**Variables compuestas (tipo \"object\")**\n",
    "\n",
    "Como se decía anteriormente, predomina el tipo de dato *object*, que, si bien se utiliza por lo general para cadenas de texto (*strings*), puede contener cualquier tipo de dato. Algunos datos que se presentan como object, pero que podrían referir a un tipo específico de dato son:\n",
    "\n",
    "- **Fechas:** e.g. última actualización de los datos (*last_scraped*), última puntuación (*'last_review'*), desde cuando está el host en la plataforma (*'host_since'*).\n",
    "- **Lógicos:** o booleanos (`True` o `False`), e.g. la etiqueta de si el host es *superhost* (*'host_is_superhost'*), si tiene disponibilidad (*'has_availability'*).\n",
    "- **Listas:** e.g. listas que indican las facilidades (*amenities*), o las verificaciones del host (*'host_verifications'*).\n",
    "\n",
    "\n"
   ]
  },
  {
   "cell_type": "code",
   "execution_count": null,
   "metadata": {},
   "outputs": [],
   "source": [
    "# Histograma para ver como están distribuidos los precios de los alquileres\n",
    "# En este caso estaría mejor utilizar el log de los precios, dado que tienen valores muy bajos / altos, por lo que se agrega al dataset una variable más (log_price), \n",
    "# para utilizar más adelante cualquier cosa\n",
    "\n",
    "rent_data['log_price'] = np.log(rent_data['price'])\n",
    "\n",
    "plt.figure(figsize=(10, 6))\n",
    "sns.histplot(x=rent_data['log_price'], bins=100)\n",
    "plt.title('Histograma de Precios')\n",
    "plt.xlabel('Precio')\n",
    "plt.ylabel('Frecuencia')\n",
    "plt.show()"
   ]
  },
  {
   "cell_type": "code",
   "execution_count": null,
   "metadata": {},
   "outputs": [],
   "source": [
    "# Donde están aproximadamente los valores más frecuentes (en el entorno de los $36K)\n",
    "np.exp(10.5)"
   ]
  },
  {
   "cell_type": "markdown",
   "metadata": {},
   "source": [
    "## Visualización de mapa"
   ]
  },
  {
   "cell_type": "code",
   "execution_count": null,
   "metadata": {},
   "outputs": [],
   "source": [
    "from ipyleaflet import Map, Marker, Popup\n",
    "from ipywidgets import HTML"
   ]
  },
  {
   "cell_type": "code",
   "execution_count": null,
   "metadata": {},
   "outputs": [],
   "source": [
    "# Mapa centrado de los datos (a través de la mediana)\n",
    "center_map = [rent_data['latitude'].median(), rent_data['longitude'].median()]\n",
    "rent_data_map = folium.Map(location=center_map, zoom_start=12)\n",
    "\n",
    "# Colormap para los precios \n",
    "norm = mpl.colors.Normalize(vmin=rent_data['log_price'].min(), vmax=rent_data['log_price'].max())\n",
    "cmap = mpl.cm.ScalarMappable(norm=norm, cmap='YlOrRd')  \n",
    "\n",
    "# Función para escalar los valores de 'price' a radios y asignar tamaño de acuerdo al precio\n",
    "def scale_radius(price, min_price, max_price, min_radius, max_radius):\n",
    "    scaled_radius = ((price - min_price) / (max_price - min_price)) * (max_radius - min_radius) + min_radius\n",
    "    return scaled_radius\n",
    "\n",
    "# Valores mínimos y máximos de precio\n",
    "min_price = rent_data['price'].min()\n",
    "max_price = rent_data['price'].max()\n",
    "\n",
    "# Valores mínimos y máximos del radio\n",
    "min_radius = 5\n",
    "max_radius = 20\n",
    "\n",
    "# Función para añadir puntos al mapa\n",
    "def add_circle_marker(row):\n",
    "    color = mpl.colors.to_hex(cmap.to_rgba(row['log_price']))\n",
    "    radius = scale_radius(row['log_price'], min_price, max_price, min_radius, max_radius)\n",
    "    folium.CircleMarker(\n",
    "        location=[row['latitude'], row['longitude']],\n",
    "        radius=radius,  # Radio del círculo\n",
    "        color='black',\n",
    "        weight=1,\n",
    "        fill=True,\n",
    "        fill_color=color,\n",
    "        fill_opacity=0.6,\n",
    "        popup=folium.Popup(f\"<b>{row['name']} <br> Rating: {row['review_scores_rating']} | Reviews ({row['number_of_reviews']}) </b> <br> \"\n",
    "                           f\"Barrio: {row['neighbourhood_cleansed']} <br> Host: {row['host_name']}  <br> Precio: ${row['price']}\",\n",
    "                           min_width=150, max_width=200),\n",
    "        tooltip=row['id']\n",
    "    ).add_to(rent_data_map)\n",
    "\n",
    "# Se aplica la función a cada fila del DataFrame\n",
    "rent_data.apply(lambda row: add_circle_marker(row), axis=1)\n",
    "\n",
    "# Plugins - Minimapa\n",
    "minimap = plugins.MiniMap()\n",
    "rent_data_map.add_child(minimap)\n",
    "rent_data_map\n",
    "\n",
    "# Visualización del mapa\n",
    "rent_data_map"
   ]
  },
  {
   "cell_type": "markdown",
   "metadata": {},
   "source": [
    "En el mapa anterior no se pueden identificar claramente las zonas más baratas/caras para alquilar. Quizás lo mejor es segmentar por barrio y tomando una medida de centralización de los precios como puede ser la mediana (más robusta)."
   ]
  },
  {
   "cell_type": "code",
   "execution_count": null,
   "metadata": {},
   "outputs": [],
   "source": [
    "# Mapa centrado de los datos (a través de la mediana)\n",
    "center_map = [rent_data['latitude'].median(), rent_data['longitude'].median()]\n",
    "rent_data_map = folium.Map(location=center_map, zoom_start=11)\n",
    "\n",
    "# Función para calcular la mediana de precios por barrio\n",
    "def medianprice_neighbourhood(df):\n",
    "    median_prices = df.groupby('neighbourhood_cleansed')['price'].median().reset_index()\n",
    "    median_prices = median_prices.rename(columns={'price': 'median_price'})\n",
    "    return df.merge(median_prices, on='neighbourhood_cleansed')\n",
    "\n",
    "# Aplicar la función a los datos\n",
    "rent_data = medianprice_neighbourhood(rent_data)\n",
    "\n",
    "# Colormap para los precios \n",
    "norm = mpl.colors.Normalize(vmin=rent_data['median_price'].min(), vmax=rent_data['median_price'].max())\n",
    "cmap = mpl.cm.ScalarMappable(norm=norm, cmap='YlOrRd')  \n",
    "\n",
    "# Función para escalar los valores de 'price' a radios y asignar tamaño de acuerdo al precio\n",
    "def scale_radius(price, min_price, max_price, min_radius, max_radius):\n",
    "    scaled_radius = ((price - min_price) / (max_price - min_price)) * (max_radius - min_radius) + min_radius\n",
    "    return scaled_radius\n",
    "\n",
    "# Valores mínimos y máximos de precio\n",
    "min_price = rent_data['price'].min()\n",
    "max_price = rent_data['price'].max()\n",
    "\n",
    "# Valores mínimos y máximos del radio\n",
    "min_radius = 5\n",
    "max_radius = 20\n",
    "\n",
    "# Función para añadir puntos al mapa\n",
    "def add_circle_marker(row):\n",
    "    color = mpl.colors.to_hex(cmap.to_rgba(row['median_price']))\n",
    "    radius = scale_radius(row['log_price'], min_price, max_price, min_radius, max_radius)\n",
    "    folium.CircleMarker(\n",
    "        location=[row['latitude'], row['longitude']],\n",
    "        radius=radius,  # Radio del círculo\n",
    "        color='black',\n",
    "        weight=1,\n",
    "        fill=True,\n",
    "        fill_color=color,\n",
    "        fill_opacity=0.6,\n",
    "        popup=folium.Popup(f\"<b>{row['name']} <br> Rating: {row['review_scores_rating']} | Reviews ({row['number_of_reviews']}) </b> <br> \"\n",
    "                           f\"Barrio: {row['neighbourhood_cleansed']} <br> Host: {row['host_name']}  <br> Precio: ${row['price']}\",\n",
    "                           min_width=150, max_width=200),\n",
    "        tooltip=row['id']\n",
    "    ).add_to(rent_data_map)\n",
    "\n",
    "# Se aplica la función a cada fila del DataFrame\n",
    "rent_data.apply(lambda row: add_circle_marker(row), axis=1)\n",
    "\n",
    "# Plugins - Minimapa\n",
    "minimap = plugins.MiniMap()\n",
    "rent_data_map.add_child(minimap)\n",
    "rent_data_map\n",
    "\n",
    "# Visualización del mapa\n",
    "rent_data_map\n",
    "\n"
   ]
  },
  {
   "cell_type": "markdown",
   "metadata": {},
   "source": [
    "Ahora si se pueden detectar zonas de renta donde el precio parece ser más elevado, siguiendo el patrón que cuanto más cercano a la costa, más aumenta la renta temporal de estas propiedades."
   ]
  }
 ],
 "metadata": {
  "kernelspec": {
   "display_name": "Python 3",
   "language": "python",
   "name": "python3"
  },
  "language_info": {
   "codemirror_mode": {
    "name": "ipython",
    "version": 3
   },
   "file_extension": ".py",
   "mimetype": "text/x-python",
   "name": "python",
   "nbconvert_exporter": "python",
   "pygments_lexer": "ipython3",
   "version": "3.10.6"
  }
 },
 "nbformat": 4,
 "nbformat_minor": 2
}
